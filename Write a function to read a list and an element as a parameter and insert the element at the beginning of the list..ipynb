{
 "cells": [
  {
   "cell_type": "code",
   "execution_count": 6,
   "metadata": {},
   "outputs": [
    {
     "name": "stdout",
     "output_type": "stream",
     "text": [
      "Enter list of elements: [3,4,5,2,3,4]\n",
      "Enter element needed to inserted: 5\n",
      "Appended list is [5, 3, 4, 5, 2, 3, 4]\n"
     ]
    }
   ],
   "source": [
    "def adding_element(lst,ele):\n",
    "    lst.insert(0,ele)\n",
    "    print('Appended list is',lst)\n",
    "list1=eval(input(\"Enter list of elements: \"))\n",
    "ele1=int(input(\"Enter element needed to inserted: \"))\n",
    "adding_element(list1,ele1)"
   ]
  },
  {
   "cell_type": "code",
   "execution_count": 7,
   "metadata": {},
   "outputs": [
    {
     "name": "stdout",
     "output_type": "stream",
     "text": [
      "Enter list of elements: [3, 2, 3, 4, 1, 3, 2, 10]\n",
      "Enter element needed to inserted: 11\n",
      "Appended list is [11, 3, 2, 3, 4, 1, 3, 2, 10]\n"
     ]
    }
   ],
   "source": [
    "def adding_element(lst,ele):\n",
    "    lst.insert(0,ele)\n",
    "    print('Appended list is',lst)\n",
    "list1=eval(input(\"Enter list of elements: \"))\n",
    "ele1=int(input(\"Enter element needed to inserted: \"))\n",
    "adding_element(list1,ele1)"
   ]
  },
  {
   "cell_type": "code",
   "execution_count": null,
   "metadata": {},
   "outputs": [],
   "source": []
  }
 ],
 "metadata": {
  "kernelspec": {
   "display_name": "Python 3",
   "language": "python",
   "name": "python3"
  },
  "language_info": {
   "codemirror_mode": {
    "name": "ipython",
    "version": 3
   },
   "file_extension": ".py",
   "mimetype": "text/x-python",
   "name": "python",
   "nbconvert_exporter": "python",
   "pygments_lexer": "ipython3",
   "version": "3.7.3"
  }
 },
 "nbformat": 4,
 "nbformat_minor": 2
}
