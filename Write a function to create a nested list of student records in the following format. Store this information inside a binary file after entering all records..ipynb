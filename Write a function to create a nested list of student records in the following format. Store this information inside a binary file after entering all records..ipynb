{
 "cells": [
  {
   "cell_type": "code",
   "execution_count": 1,
   "metadata": {},
   "outputs": [
    {
     "name": "stdout",
     "output_type": "stream",
     "text": [
      "Enter student number: 2\n",
      "Enter Name: Gautam \n",
      "Enter Marks97\n",
      "Want to add more(y/n)? y\n",
      "Enter student number: 5\n",
      "Enter Name: Ram\n",
      "Enter Marks80\n",
      "Want to add more(y/n)? y\n",
      "Enter student number: 8\n",
      "Enter Name: Shyam\n",
      "Enter Marks96\n",
      "Want to add more(y/n)? n\n"
     ]
    }
   ],
   "source": [
    "import pickle\n",
    "def addrecord():\n",
    "    student=[]\n",
    "    ch='y'\n",
    "    while ch=='y':\n",
    "        stno=int(input(\"Enter student number: \"))\n",
    "        sname=input(\"Enter Name: \")\n",
    "        marks=int(input(\"Enter Marks\" ))\n",
    "        s=[stno,sname,marks]\n",
    "        student.append(s)\n",
    "        ch=input(\"Want to add more(y/n)? \")\n",
    "    f=open(\"student\",\"wb\")\n",
    "    pickle.dump(student,f)\n",
    "    f.close()\n",
    "addrecord()\n"
   ]
  },
  {
   "cell_type": "code",
   "execution_count": null,
   "metadata": {},
   "outputs": [],
   "source": []
  },
  {
   "cell_type": "code",
   "execution_count": null,
   "metadata": {},
   "outputs": [],
   "source": []
  }
 ],
 "metadata": {
  "kernelspec": {
   "display_name": "Python 3",
   "language": "python",
   "name": "python3"
  },
  "language_info": {
   "codemirror_mode": {
    "name": "ipython",
    "version": 3
   },
   "file_extension": ".py",
   "mimetype": "text/x-python",
   "name": "python",
   "nbconvert_exporter": "python",
   "pygments_lexer": "ipython3",
   "version": "3.7.3"
  }
 },
 "nbformat": 4,
 "nbformat_minor": 2
}
