{
 "cells": [
  {
   "cell_type": "code",
   "execution_count": null,
   "metadata": {},
   "outputs": [
    {
     "name": "stdout",
     "output_type": "stream",
     "text": [
      "Enter a list:[2,3,4,5,6]\n",
      "\n",
      "Enter operations to be executed on list implemented with queue:\n",
      "1. Push (Insert element) \n",
      "2. Pop (Delete element) \n",
      "3. Display (Show all elements in reverse order) \n",
      "4. Exit program\n",
      "\n",
      "Enter an input:1\n",
      "Enter element to be added:4\n",
      "Element has been added.\n",
      " [2, 3, 4, 5, 6, 4]\n",
      "\n",
      "Enter operations to be executed on list implemented with queue:\n",
      "1. Push (Insert element) \n",
      "2. Pop (Delete element) \n",
      "3. Display (Show all elements in reverse order) \n",
      "4. Exit program\n",
      "\n",
      "Enter an input:2\n",
      "First element has been removed.\n",
      " [3, 4, 5, 6, 4]\n",
      "\n",
      "Enter operations to be executed on list implemented with queue:\n",
      "1. Push (Insert element) \n",
      "2. Pop (Delete element) \n",
      "3. Display (Show all elements in reverse order) \n",
      "4. Exit program\n",
      "\n",
      "Enter an input:3\n",
      "[4, 6, 5, 4, 3]\n",
      "\n",
      "Enter operations to be executed on list implemented with queue:\n",
      "1. Push (Insert element) \n",
      "2. Pop (Delete element) \n",
      "3. Display (Show all elements in reverse order) \n",
      "4. Exit program\n"
     ]
    }
   ],
   "source": [
    "n=0\n",
    "l=eval(input(\"Enter a list:\"))\n",
    "while n!=4:\n",
    "    print('')\n",
    "    print(\"Enter operations to be executed on list implemented with queue:\")\n",
    "    print(\"1. Push (Insert element) \\n2. Pop (Delete element) \\n3. Display (Show all elements in reverse order) \\n4. Exit program\")\n",
    "    n=int(input(\"\\nEnter an input:\"))\n",
    "    if n==1:\n",
    "        a=eval(input(\"Enter element to be added:\"))\n",
    "        l.append(a)\n",
    "        print(\"Element has been added.\\n\",l)\n",
    "    if n==2:\n",
    "        if l!=[]:\n",
    "            l.pop(0)\n",
    "            print(\"First element has been removed.\\n\",l)\n",
    "        else:\n",
    "            print(\"Under flow or something went wrong.\")\n",
    "    if n==3:\n",
    "        print(l[::-1])\n",
    "print(\"Program ended.\")"
   ]
  },
  {
   "cell_type": "code",
   "execution_count": null,
   "metadata": {},
   "outputs": [],
   "source": []
  }
 ],
 "metadata": {
  "kernelspec": {
   "display_name": "Python 3",
   "language": "python",
   "name": "python3"
  },
  "language_info": {
   "codemirror_mode": {
    "name": "ipython",
    "version": 3
   },
   "file_extension": ".py",
   "mimetype": "text/x-python",
   "name": "python",
   "nbconvert_exporter": "python",
   "pygments_lexer": "ipython3",
   "version": "3.7.3"
  }
 },
 "nbformat": 4,
 "nbformat_minor": 2
}
