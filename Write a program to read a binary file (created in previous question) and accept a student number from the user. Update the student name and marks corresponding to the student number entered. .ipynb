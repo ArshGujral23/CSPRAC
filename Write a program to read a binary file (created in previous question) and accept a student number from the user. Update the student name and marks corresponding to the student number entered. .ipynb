{
 "cells": [
  {
   "cell_type": "code",
   "execution_count": 8,
   "metadata": {},
   "outputs": [
    {
     "name": "stdout",
     "output_type": "stream",
     "text": [
      "Enter the student number to be search: 3\n",
      "Record Found...\n",
      "Enter updated name: Amber\n",
      "Enter updated marks: 97\n",
      "Name and marks is updated.\n"
     ]
    }
   ],
   "source": [
    "import pickle\n",
    "def search():\n",
    "     f=open(\"student\",\"rb\")\n",
    "     stu=pickle.load(f)\n",
    "     r=int(input(\"Enter the student number to be search: \"))\n",
    "     for i in stu:\n",
    "         if i[0]==r:\n",
    "             print(\"Record Found...\")\n",
    "             i[1]=input(\"Enter updated name: \")\n",
    "             i[2]=int(input(\"Enter updated marks: \"))\n",
    "             print(\"Name and marks is updated.\")\n",
    "             break\n",
    "     else:\n",
    "         print(\"No record found\")\n",
    "     f.close()\n",
    "search()\n"
   ]
  }
 ],
 "metadata": {
  "kernelspec": {
   "display_name": "Python 3",
   "language": "python",
   "name": "python3"
  }
 },
 "nbformat": 4,
 "nbformat_minor": 2
}
