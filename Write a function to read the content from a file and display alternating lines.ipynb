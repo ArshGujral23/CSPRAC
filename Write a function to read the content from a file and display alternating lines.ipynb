{
 "cells": [
  {
   "cell_type": "code",
   "execution_count": 4,
   "metadata": {},
   "outputs": [],
   "source": [
    "def alterline():\n",
    "    f=open(\"content.txt\",'r')\n",
    "    f1=f.read()\n",
    "    f1=f1.split()\n",
    "    for a in range(1,len(f1)):\n",
    "        if f1[a-1]=='.':\n",
    "            print(f[a])\n",
    "            while f1[a][0]!='.':\n",
    "                print(f1[a])\n",
    "alterline()\n",
    "            "
   ]
  },
  {
   "cell_type": "code",
   "execution_count": null,
   "metadata": {},
   "outputs": [],
   "source": []
  }
 ],
 "metadata": {
  "kernelspec": {
   "display_name": "Python 3",
   "language": "python",
   "name": "python3"
  },
  "language_info": {
   "codemirror_mode": {
    "name": "ipython",
    "version": 3
   },
   "file_extension": ".py",
   "mimetype": "text/x-python",
   "name": "python",
   "nbconvert_exporter": "python",
   "pygments_lexer": "ipython3",
   "version": "3.7.3"
  }
 },
 "nbformat": 4,
 "nbformat_minor": 2
}
