{
 "cells": [
  {
   "cell_type": "code",
   "execution_count": 10,
   "metadata": {},
   "outputs": [
    {
     "name": "stdout",
     "output_type": "stream",
     "text": [
      "Enter list:[1,2,3,4]\n",
      "[1, 2, 3]\n",
      "[4, 1, 2]\n",
      "[3, 4, 1]\n",
      "[2, 3, 4]\n",
      "[1, 2, 3, 4]\n"
     ]
    }
   ],
   "source": [
    "def shift_ele(lst):\n",
    "    for a in range(len(lst)):\n",
    "        c=lst[-1]\n",
    "        lst=lst[0:-1]\n",
    "        print(lst)\n",
    "        lst.insert(0,c)\n",
    "    print(lst)\n",
    "l=eval(input('Enter list:'))\n",
    "shift_ele(l)"
   ]
  },
  {
   "cell_type": "code",
   "execution_count": null,
   "metadata": {},
   "outputs": [],
   "source": []
  }
 ],
 "metadata": {
  "kernelspec": {
   "display_name": "Python 3",
   "language": "python",
   "name": "python3"
  },
  "language_info": {
   "codemirror_mode": {
    "name": "ipython",
    "version": 3
   },
   "file_extension": ".py",
   "mimetype": "text/x-python",
   "name": "python",
   "nbconvert_exporter": "python",
   "pygments_lexer": "ipython3",
   "version": "3.7.3"
  }
 },
 "nbformat": 4,
 "nbformat_minor": 2
}
