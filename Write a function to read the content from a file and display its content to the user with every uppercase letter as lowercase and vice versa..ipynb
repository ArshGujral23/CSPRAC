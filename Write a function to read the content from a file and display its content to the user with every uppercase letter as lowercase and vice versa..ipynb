{
 "cells": [
  {
   "cell_type": "code",
   "execution_count": 7,
   "metadata": {},
   "outputs": [],
   "source": [
    "def copy_pastevicecersa():\n",
    "    f=open('content.txt','r')\n",
    "    f1=open('interchangecontent.txt','w',encoding='UTF-8')\n",
    "    c=f.read()\n",
    "    for a in c:\n",
    "        if a.isupper():\n",
    "            f1.write(a.lower())\n",
    "        elif a.islower():\n",
    "            f1.write(a.upper())\n",
    "        else:\n",
    "            f1.write(a)\n",
    "    f.close()\n",
    "copy_pastevicecersa()"
   ]
  },
  {
   "cell_type": "code",
   "execution_count": null,
   "metadata": {},
   "outputs": [],
   "source": []
  }
 ],
 "metadata": {
  "kernelspec": {
   "display_name": "Python 3",
   "language": "python",
   "name": "python3"
  },
  "language_info": {
   "codemirror_mode": {
    "name": "ipython",
    "version": 3
   },
   "file_extension": ".py",
   "mimetype": "text/x-python",
   "name": "python",
   "nbconvert_exporter": "python",
   "pygments_lexer": "ipython3",
   "version": "3.7.3"
  }
 },
 "nbformat": 4,
 "nbformat_minor": 2
}
