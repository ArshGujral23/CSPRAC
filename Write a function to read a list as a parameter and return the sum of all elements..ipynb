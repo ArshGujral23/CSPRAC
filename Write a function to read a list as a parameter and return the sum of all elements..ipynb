{
 "cells": [
  {
   "cell_type": "code",
   "execution_count": 1,
   "metadata": {},
   "outputs": [
    {
     "name": "stdout",
     "output_type": "stream",
     "text": [
      "Enter list of elements: [3,4,5,2,3,4]\n",
      "Sum of [3, 4, 5, 2, 3, 4] is 21\n"
     ]
    }
   ],
   "source": [
    "def sum_list(lst):\n",
    "    sum=0\n",
    "    for a in lst:\n",
    "        sum=sum+a\n",
    "    print(\"Sum of\",lst,'is',sum)\n",
    "list1=eval(input(\"Enter list of elements: \"))\n",
    "sum_list(list1)"
   ]
  },
  {
   "cell_type": "code",
   "execution_count": 2,
   "metadata": {},
   "outputs": [
    {
     "name": "stdout",
     "output_type": "stream",
     "text": [
      "Enter list of elements: [3,2,3,4,1,3,2,10]\n",
      "Sum of [3, 2, 3, 4, 1, 3, 2, 10] is 28\n"
     ]
    }
   ],
   "source": [
    "def sum_list(lst):\n",
    "    sum=0\n",
    "    for a in lst:\n",
    "        sum=sum+a\n",
    "    print(\"Sum of\",lst,'is',sum)\n",
    "list1=eval(input(\"Enter list of elements: \"))\n",
    "sum_list(list1)"
   ]
  },
  {
   "cell_type": "code",
   "execution_count": null,
   "metadata": {},
   "outputs": [],
   "source": []
  }
 ],
 "metadata": {
  "kernelspec": {
   "display_name": "Python 3",
   "language": "python",
   "name": "python3"
  },
  "language_info": {
   "codemirror_mode": {
    "name": "ipython",
    "version": 3
   },
   "file_extension": ".py",
   "mimetype": "text/x-python",
   "name": "python",
   "nbconvert_exporter": "python",
   "pygments_lexer": "ipython3",
   "version": "3.7.3"
  }
 },
 "nbformat": 4,
 "nbformat_minor": 2
}
