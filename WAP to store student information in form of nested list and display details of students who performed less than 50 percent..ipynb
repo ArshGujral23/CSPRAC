{
 "cells": [
  {
   "cell_type": "code",
   "execution_count": 3,
   "metadata": {},
   "outputs": [
    {
     "name": "stdout",
     "output_type": "stream",
     "text": [
      "Student 1\n",
      "Student Name: Anthony\n",
      "Student Roll No.: 3\n",
      "Student Percent: 49 %\n",
      "Student 2\n",
      "Student Name: Sourabh\n",
      "Student Roll No.: 5\n",
      "Student Percent: 42 %\n"
     ]
    }
   ],
   "source": [
    "#Not creating as question to write a program..\n",
    "records=[['Amar',2,62],['Akbar',1,52],['Anthony',3,49],['Sourabh',5,42],['Sandeep',4,81]]\n",
    "c=1\n",
    "for a in records:\n",
    "    if a[2] < 50 :\n",
    "        print(\"Student\",c)\n",
    "        print(\"Student Name:\",a[0])\n",
    "        print(\"Student Roll No.:\",a[1])\n",
    "        print(\"Student Percent:\",a[2],\"%\")\n",
    "        c+=1\n",
    "    "
   ]
  },
  {
   "cell_type": "code",
   "execution_count": null,
   "metadata": {},
   "outputs": [],
   "source": []
  }
 ],
 "metadata": {
  "kernelspec": {
   "display_name": "Python 3",
   "language": "python",
   "name": "python3"
  },
  "language_info": {
   "codemirror_mode": {
    "name": "ipython",
    "version": 3
   },
   "file_extension": ".py",
   "mimetype": "text/x-python",
   "name": "python",
   "nbconvert_exporter": "python",
   "pygments_lexer": "ipython3",
   "version": "3.7.3"
  }
 },
 "nbformat": 4,
 "nbformat_minor": 2
}
