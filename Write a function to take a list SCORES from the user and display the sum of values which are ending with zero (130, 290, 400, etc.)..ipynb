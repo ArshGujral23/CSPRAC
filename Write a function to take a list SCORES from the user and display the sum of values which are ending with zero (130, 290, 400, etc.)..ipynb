{
 "cells": [
  {
   "cell_type": "code",
   "execution_count": 7,
   "metadata": {},
   "outputs": [
    {
     "name": "stdout",
     "output_type": "stream",
     "text": [
      "Enter list of scores:[821,43,21,2,235,40,30]\n",
      "Sum of values ending with zero are 70\n"
     ]
    }
   ],
   "source": [
    "def sumzero(lst):\n",
    "    c=0\n",
    "    for a in lst:\n",
    "        if a%10==0:\n",
    "            c=c+a\n",
    "    print(\"Sum of values ending with zero are\",c)\n",
    "l=eval(input(\"Enter list of scores:\"))\n",
    "sumzero(l)"
   ]
  }
 ],
 "metadata": {
  "kernelspec": {
   "display_name": "Python 3",
   "language": "python",
   "name": "python3"
  },
  "language_info": {
   "codemirror_mode": {
    "name": "ipython",
    "version": 3
   },
   "file_extension": ".py",
   "mimetype": "text/x-python",
   "name": "python",
   "nbconvert_exporter": "python",
   "pygments_lexer": "ipython3",
   "version": "3.7.3"
  }
 },
 "nbformat": 4,
 "nbformat_minor": 2
}
