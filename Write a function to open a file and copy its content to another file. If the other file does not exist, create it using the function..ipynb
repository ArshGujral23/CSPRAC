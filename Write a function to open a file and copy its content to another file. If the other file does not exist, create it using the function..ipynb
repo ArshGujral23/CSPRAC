{
 "cells": [
  {
   "cell_type": "code",
   "execution_count": 1,
   "metadata": {},
   "outputs": [],
   "source": [
    "def copy_paste():\n",
    "    f=open('content.txt','r')\n",
    "    f1=open('newcontent.txt','w')\n",
    "    c=f.read()\n",
    "    f1.write(c)\n",
    "    f.close()\n",
    "copy_paste()"
   ]
  },
  {
   "cell_type": "code",
   "execution_count": null,
   "metadata": {},
   "outputs": [],
   "source": []
  }
 ],
 "metadata": {
  "kernelspec": {
   "display_name": "Python 3",
   "language": "python",
   "name": "python3"
  },
  "language_info": {
   "codemirror_mode": {
    "name": "ipython",
    "version": 3
   },
   "file_extension": ".py",
   "mimetype": "text/x-python",
   "name": "python",
   "nbconvert_exporter": "python",
   "pygments_lexer": "ipython3",
   "version": "3.7.3"
  }
 },
 "nbformat": 4,
 "nbformat_minor": 2
}
