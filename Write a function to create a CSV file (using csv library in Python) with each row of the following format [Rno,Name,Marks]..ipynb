{
 "cells": [
  {
   "cell_type": "code",
   "execution_count": null,
   "metadata": {},
   "outputs": [
    {
     "name": "stdout",
     "output_type": "stream",
     "text": [
      "Rollno:5\n",
      "Name:Gautam\n",
      "Marks:97\n",
      "More(Y/N)?y\n",
      "Rollno:2\n",
      "Name:Arsh \n",
      "Marks:68\n",
      "More(Y/N)?y\n",
      "Rollno:9\n",
      "Name:Vansh\n",
      "Marks:59\n",
      "More(Y/N)?n\n"
     ]
    }
   ],
   "source": [
    "import csv\n",
    "def CreateCSV1():\n",
    "     csvfile=open('student2.csv','w', newline='')\n",
    "     csvobj =csv.writer(csvfile)\n",
    "     while True:\n",
    "        Rno =int(input(\"Rollno:\"))\n",
    "        Name =input(\"Name:\")\n",
    "        Marks=float(input(\"Marks:\"))\n",
    "        Line=[Rno,Name,Marks]\n",
    "        csvobj.writerow(Line)\n",
    "        ch=input(\"More(Y/N)?\")\n",
    "        if ch=='N':\n",
    "            break\n",
    "CreateCSV1()\n",
    "            "
   ]
  },
  {
   "cell_type": "code",
   "execution_count": null,
   "metadata": {},
   "outputs": [],
   "source": []
  }
 ],
 "metadata": {
  "kernelspec": {
   "display_name": "Python 3",
   "language": "python",
   "name": "python3"
  },
  "language_info": {
   "codemirror_mode": {
    "name": "ipython",
    "version": 3
   },
   "file_extension": ".py",
   "mimetype": "text/x-python",
   "name": "python",
   "nbconvert_exporter": "python",
   "pygments_lexer": "ipython3",
   "version": "3.7.3"
  }
 },
 "nbformat": 4,
 "nbformat_minor": 2
}
