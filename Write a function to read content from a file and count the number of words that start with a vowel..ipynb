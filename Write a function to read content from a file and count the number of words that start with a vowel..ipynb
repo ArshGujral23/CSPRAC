{
 "cells": [
  {
   "cell_type": "code",
   "execution_count": 3,
   "metadata": {},
   "outputs": [
    {
     "name": "stdout",
     "output_type": "stream",
     "text": [
      "Total words starting with vowel are  51\n"
     ]
    }
   ],
   "source": [
    "def read_vowel():\n",
    "    f=open(\"content.txt\",'r')\n",
    "    f1=f.read()\n",
    "    f1=f1.split()\n",
    "    count=0\n",
    "    for a in f1:\n",
    "        if a[0] in 'AEIOUaeiou':\n",
    "            count=count+1\n",
    "    print(\"Total words starting with vowel are \",count)\n",
    "    f.close()\n",
    "read_vowel()"
   ]
  },
  {
   "cell_type": "code",
   "execution_count": null,
   "metadata": {},
   "outputs": [],
   "source": []
  }
 ],
 "metadata": {
  "kernelspec": {
   "display_name": "Python 3",
   "language": "python",
   "name": "python3"
  },
  "language_info": {
   "codemirror_mode": {
    "name": "ipython",
    "version": 3
   },
   "file_extension": ".py",
   "mimetype": "text/x-python",
   "name": "python",
   "nbconvert_exporter": "python",
   "pygments_lexer": "ipython3",
   "version": "3.7.3"
  }
 },
 "nbformat": 4,
 "nbformat_minor": 2
}
