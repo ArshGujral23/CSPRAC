{
 "cells": [
  {
   "cell_type": "code",
   "execution_count": 1,
   "metadata": {},
   "outputs": [
    {
     "name": "stdout",
     "output_type": "stream",
     "text": [
      "A computer is an electronic device which can perform many tasks like messaging, calculations, data storage, printing, etc. Computers were developed in the 1940s. These days computers are used everywhere homes, schools, colleges, offices, hotels, railway stations, airports, shops, etc.There are various kinds of computers like pocket computers, laptops, personal computers, etc.\n",
      "\n",
      "We should not overuse computer. It can adversely effect our health. Computers are there to help us, we should not misuse them by only playing games or chatting or surfing Internet.\n"
     ]
    }
   ],
   "source": [
    "def alternatelines():\n",
    "    f=open('content.txt','r')\n",
    "    c=f.readlines()\n",
    "    for i in range(0,len(c),2):\n",
    "        print(c[i])                                                                                   \n",
    "alternatelines()"
   ]
  },
  {
   "cell_type": "code",
   "execution_count": 4,
   "metadata": {},
   "outputs": [
    {
     "name": "stdout",
     "output_type": "stream",
     "text": [
      "A computer is an electronic device which can perform many tasks like messaging, calculations, data storage, printing, etc. Computers were developed in the 1940s. These days computers are used everywhere homes, schools, colleges, offices, hotels, railway stations, airports, shops, etc.There are various kinds of computers like pocket computers, laptops, personal computers, etc.\n",
      "Also there are various colours and sizes of computer. I too have a computer at home, which has a keyboard, a mouse, a CPU (the brain of computer), a screen or monitor and a UPS. Computer is a very helpful device. We can learn many new things through Internet and can also do our work easily and quickly on computer.\n",
      "We should not overuse computer. It can adversely effect our health. Computers are there to help us, we should not misuse them by only playing games or chatting or surfing Internet.\n"
     ]
    }
   ],
   "source": [
    "def original():\n",
    "    f=open('content.txt','r')\n",
    "    b=f.read()\n",
    "    print(b)\n",
    "original()"
   ]
  },
  {
   "cell_type": "code",
   "execution_count": null,
   "metadata": {},
   "outputs": [],
   "source": []
  }
 ],
 "metadata": {
  "kernelspec": {
   "display_name": "Python 3",
   "language": "python",
   "name": "python3"
  },
  "language_info": {
   "codemirror_mode": {
    "name": "ipython",
    "version": 3
   },
   "file_extension": ".py",
   "mimetype": "text/x-python",
   "name": "python",
   "nbconvert_exporter": "python",
   "pygments_lexer": "ipython3",
   "version": "3.7.3"
  }
 },
 "nbformat": 4,
 "nbformat_minor": 2
}
