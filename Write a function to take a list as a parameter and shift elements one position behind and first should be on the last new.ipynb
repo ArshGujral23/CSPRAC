{
 "cells": [
  {
   "cell_type": "code",
   "execution_count": 2,
   "metadata": {},
   "outputs": [
    {
     "name": "stdout",
     "output_type": "stream",
     "text": [
      "Enter a list:[2,3,4,5]\n",
      "[3, 4, 5, 2]\n"
     ]
    }
   ],
   "source": [
    "def shiftelementbehind(l):\n",
    "    a=l[0]\n",
    "    for i in range(1,len(l)):\n",
    "        l[i-1]=l[i]\n",
    "    l[-1]=a\n",
    "    return l\n",
    "\n",
    "n=eval(input(\"Enter a list:\"))\n",
    "print(shiftelementbehind(n))"
   ]
  },
  {
   "cell_type": "code",
   "execution_count": null,
   "metadata": {},
   "outputs": [],
   "source": []
  }
 ],
 "metadata": {
  "kernelspec": {
   "display_name": "Python 3",
   "language": "python",
   "name": "python3"
  },
  "language_info": {
   "codemirror_mode": {
    "name": "ipython",
    "version": 3
   },
   "file_extension": ".py",
   "mimetype": "text/x-python",
   "name": "python",
   "nbconvert_exporter": "python",
   "pygments_lexer": "ipython3",
   "version": "3.7.3"
  }
 },
 "nbformat": 4,
 "nbformat_minor": 2
}
