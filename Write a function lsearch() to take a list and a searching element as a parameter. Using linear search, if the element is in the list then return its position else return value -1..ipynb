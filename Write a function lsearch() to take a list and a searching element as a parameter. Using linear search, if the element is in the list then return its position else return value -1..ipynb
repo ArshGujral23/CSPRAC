{
 "cells": [
  {
   "cell_type": "code",
   "execution_count": 4,
   "metadata": {},
   "outputs": [
    {
     "name": "stdout",
     "output_type": "stream",
     "text": [
      "Enter list: [43,2,1,4,5,1,3,5,1]\n",
      "Enter element to be searched: 1\n",
      "Element found at 3 position.\n",
      "Element found at 6 position.\n",
      "Element found at 9 position.\n"
     ]
    }
   ],
   "source": [
    "def lsearch(lst,ele):\n",
    "    c=0\n",
    "    for a in range(len(lst)):\n",
    "        if lst[a]==ele:\n",
    "            print(\"Element found at\",a+1,'position.')\n",
    "            c=1\n",
    "    if c==0:\n",
    "        print(\"-1\")\n",
    "l=eval(input(\"Enter list: \"))\n",
    "s=int(input(\"Enter element to be searched: \"))\n",
    "lsearch(l,s)"
   ]
  }
 ],
 "metadata": {
  "kernelspec": {
   "display_name": "Python 3",
   "language": "python",
   "name": "python3"
  },
  "language_info": {
   "codemirror_mode": {
    "name": "ipython",
    "version": 3
   },
   "file_extension": ".py",
   "mimetype": "text/x-python",
   "name": "python",
   "nbconvert_exporter": "python",
   "pygments_lexer": "ipython3",
   "version": "3.7.3"
  }
 },
 "nbformat": 4,
 "nbformat_minor": 2
}
