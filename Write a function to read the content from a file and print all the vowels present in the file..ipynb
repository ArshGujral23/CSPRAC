{
 "cells": [
  {
   "cell_type": "code",
   "execution_count": 5,
   "metadata": {},
   "outputs": [],
   "source": [
    "def copy_pastevowel():\n",
    "    f=open('content.txt','r')\n",
    "    f1=open('vowelincontent.txt','w',encoding='UTF-8')\n",
    "    c=f.read()\n",
    "    c=c.split()\n",
    "    for a in c:\n",
    "        if a[0] in 'aeiouAEIOU':\n",
    "            f1.write(a)\n",
    "            f1.write('\\t')\n",
    "    f.close()\n",
    "copy_pastevowel()"
   ]
  },
  {
   "cell_type": "code",
   "execution_count": null,
   "metadata": {},
   "outputs": [],
   "source": []
  }
 ],
 "metadata": {
  "kernelspec": {
   "display_name": "Python 3",
   "language": "python",
   "name": "python3"
  },
  "language_info": {
   "codemirror_mode": {
    "name": "ipython",
    "version": 3
   },
   "file_extension": ".py",
   "mimetype": "text/x-python",
   "name": "python",
   "nbconvert_exporter": "python",
   "pygments_lexer": "ipython3",
   "version": "3.7.3"
  }
 },
 "nbformat": 4,
 "nbformat_minor": 2
}
