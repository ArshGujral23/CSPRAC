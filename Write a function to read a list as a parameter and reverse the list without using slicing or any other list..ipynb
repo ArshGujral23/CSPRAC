{
 "cells": [
  {
   "cell_type": "code",
   "execution_count": 3,
   "metadata": {},
   "outputs": [
    {
     "name": "stdout",
     "output_type": "stream",
     "text": [
      "Enter list: [3,4,5,2,3,4]\n",
      "Reversed list is  [4, 3, 2, 5, 4, 3]\n"
     ]
    }
   ],
   "source": [
    "def reverse_list(lst):\n",
    "    l=len(lst)\n",
    "    for i in range (l//2):\n",
    "        lst[i],lst[l-i-1]=lst[l-i-1],lst[i]\n",
    "    print('Reversed list is ',lst)\n",
    "list1=eval(input(\"Enter list: \"))\n",
    "reverse_list(list1)"
   ]
  },
  {
   "cell_type": "code",
   "execution_count": 4,
   "metadata": {},
   "outputs": [
    {
     "name": "stdout",
     "output_type": "stream",
     "text": [
      "Enter list: [3, 2, 3, 4, 1, 3, 2, 10]\n",
      "Reversed list is  [10, 2, 3, 1, 4, 3, 2, 3]\n"
     ]
    }
   ],
   "source": [
    "def reverse_list(lst):\n",
    "    l=len(lst)\n",
    "    for i in range (l//2):\n",
    "        lst[i],lst[l-i-1]=lst[l-i-1],lst[i]\n",
    "    print('Reversed list is ',lst)\n",
    "list1=eval(input(\"Enter list: \"))\n",
    "reverse_list(list1)"
   ]
  }
 ],
 "metadata": {
  "kernelspec": {
   "display_name": "Python 3",
   "language": "python",
   "name": "python3"
  },
  "language_info": {
   "codemirror_mode": {
    "name": "ipython",
    "version": 3
   },
   "file_extension": ".py",
   "mimetype": "text/x-python",
   "name": "python",
   "nbconvert_exporter": "python",
   "pygments_lexer": "ipython3",
   "version": "3.7.3"
  }
 },
 "nbformat": 4,
 "nbformat_minor": 2
}
