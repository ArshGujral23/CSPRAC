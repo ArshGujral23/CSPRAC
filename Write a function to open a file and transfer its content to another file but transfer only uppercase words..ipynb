{
 "cells": [
  {
   "cell_type": "code",
   "execution_count": 4,
   "metadata": {},
   "outputs": [],
   "source": [
    "def copy_pasteonlyu():\n",
    "    f=open('content.txt','r')\n",
    "    f1=open('uppernewcontent.txt','w')\n",
    "    c=f.read()\n",
    "    c=c.split()\n",
    "    for a in c:\n",
    "        if a[0].isupper():\n",
    "            f1.write(a)\n",
    "            f1.write('\\n')\n",
    "    f.close()\n",
    "copy_pasteonlyu()"
   ]
  },
  {
   "cell_type": "code",
   "execution_count": null,
   "metadata": {},
   "outputs": [],
   "source": []
  }
 ],
 "metadata": {
  "kernelspec": {
   "display_name": "Python 3",
   "language": "python",
   "name": "python3"
  },
  "language_info": {
   "codemirror_mode": {
    "name": "ipython",
    "version": 3
   },
   "file_extension": ".py",
   "mimetype": "text/x-python",
   "name": "python",
   "nbconvert_exporter": "python",
   "pygments_lexer": "ipython3",
   "version": "3.7.3"
  }
 },
 "nbformat": 4,
 "nbformat_minor": 2
}
