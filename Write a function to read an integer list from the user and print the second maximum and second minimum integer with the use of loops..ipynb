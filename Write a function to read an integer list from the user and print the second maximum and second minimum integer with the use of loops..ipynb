{
 "cells": [
  {
   "cell_type": "code",
   "execution_count": 2,
   "metadata": {},
   "outputs": [
    {
     "name": "stdout",
     "output_type": "stream",
     "text": [
      "Enter list of integers:[3,2,4,1,24,2,1,12,3,42]\n",
      "Second maximum is 24\n",
      "Second minimum is 2\n"
     ]
    }
   ],
   "source": [
    "def max_min(lst):\n",
    "    max=0\n",
    "    min=9\n",
    "    smax=smin=0\n",
    "    for a in lst:\n",
    "        if a > max :\n",
    "            smax=max\n",
    "            max=a\n",
    "        if a < min :\n",
    "            smin=min\n",
    "            min=a\n",
    "    print('Second maximum is',smax)\n",
    "    print('Second minimum is',smin)\n",
    "l=eval(input(\"Enter list of integers:\"))\n",
    "max_min(l)"
   ]
  },
  {
   "cell_type": "code",
   "execution_count": null,
   "metadata": {},
   "outputs": [],
   "source": []
  }
 ],
 "metadata": {
  "kernelspec": {
   "display_name": "Python 3",
   "language": "python",
   "name": "python3"
  },
  "language_info": {
   "codemirror_mode": {
    "name": "ipython",
    "version": 3
   },
   "file_extension": ".py",
   "mimetype": "text/x-python",
   "name": "python",
   "nbconvert_exporter": "python",
   "pygments_lexer": "ipython3",
   "version": "3.7.3"
  }
 },
 "nbformat": 4,
 "nbformat_minor": 2
}
