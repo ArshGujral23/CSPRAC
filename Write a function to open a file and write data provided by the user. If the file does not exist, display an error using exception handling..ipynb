{
 "cells": [
  {
   "cell_type": "code",
   "execution_count": 18,
   "metadata": {},
   "outputs": [
    {
     "name": "stdout",
     "output_type": "stream",
     "text": [
      "Enter file name:data.txt\n",
      "Enter data to be added in file:Hello, my name is Gautam.\n"
     ]
    }
   ],
   "source": [
    "def open_file():\n",
    "    try:\n",
    "        filename=input(\"Enter file name:\")\n",
    "        content=input(\"Enter data to be added in file:\")\n",
    "        f=open(filename,\"r+\")\n",
    "        f.writelines(content)\n",
    "    except FileNotFoundError:\n",
    "        print(filename,\" not found.\")\n",
    "open_file()"
   ]
  },
  {
   "cell_type": "code",
   "execution_count": 19,
   "metadata": {},
   "outputs": [
    {
     "name": "stdout",
     "output_type": "stream",
     "text": [
      "Enter file name:imaginaryfile.txt\n",
      "Enter data to be added in file:Hello\n",
      "imaginaryfile.txt  not found.\n"
     ]
    }
   ],
   "source": [
    "def open_file():\n",
    "    try:\n",
    "        filename=input(\"Enter file name:\")\n",
    "        content=input(\"Enter data to be added in file:\")\n",
    "        f=open(filename,\"r+\")\n",
    "        f.writelines(content)\n",
    "    except FileNotFoundError:\n",
    "        print(filename,\" not found.\")\n",
    "open_file()"
   ]
  },
  {
   "cell_type": "code",
   "execution_count": null,
   "metadata": {},
   "outputs": [],
   "source": []
  }
 ],
 "metadata": {
  "kernelspec": {
   "display_name": "Python 3",
   "language": "python",
   "name": "python3"
  },
  "language_info": {
   "codemirror_mode": {
    "name": "ipython",
    "version": 3
   },
   "file_extension": ".py",
   "mimetype": "text/x-python",
   "name": "python",
   "nbconvert_exporter": "python",
   "pygments_lexer": "ipython3",
   "version": "3.7.3"
  }
 },
 "nbformat": 4,
 "nbformat_minor": 2
}
