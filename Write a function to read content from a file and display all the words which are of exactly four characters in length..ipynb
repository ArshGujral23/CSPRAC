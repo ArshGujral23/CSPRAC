{
 "cells": [
  {
   "cell_type": "code",
   "execution_count": 14,
   "metadata": {},
   "outputs": [
    {
     "name": "stdout",
     "output_type": "stream",
     "text": [
      "many\n",
      "like\n",
      "data\n",
      "were\n",
      "days\n",
      "used\n",
      "like\n",
      "Also\n",
      "have\n",
      "very\n",
      "many\n",
      "also\n",
      "work\n",
      "help\n",
      "them\n",
      "only\n",
      "Total 4 character words are  16\n"
     ]
    }
   ],
   "source": [
    "def read_four():\n",
    "    f=open('content.txt','r')\n",
    "    c=f.read()\n",
    "    c=c.split()\n",
    "    count=0\n",
    "    for a in c:\n",
    "        if len(a)==4:\n",
    "            if a.isalpha(): #As some words are starting with '.' or '()'\n",
    "                print(a)\n",
    "                count=count+1\n",
    "    print(\"Total 4 character words are \",count)\n",
    "    f.close()\n",
    "read_four()"
   ]
  }
 ],
 "metadata": {
  "kernelspec": {
   "display_name": "Python 3",
   "language": "python",
   "name": "python3"
  },
  "language_info": {
   "codemirror_mode": {
    "name": "ipython",
    "version": 3
   },
   "file_extension": ".py",
   "mimetype": "text/x-python",
   "name": "python",
   "nbconvert_exporter": "python",
   "pygments_lexer": "ipython3",
   "version": "3.7.3"
  }
 },
 "nbformat": 4,
 "nbformat_minor": 2
}
