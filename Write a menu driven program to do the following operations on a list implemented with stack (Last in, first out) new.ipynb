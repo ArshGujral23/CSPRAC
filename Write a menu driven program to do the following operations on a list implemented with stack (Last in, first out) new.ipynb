{
 "cells": [
  {
   "cell_type": "code",
   "execution_count": null,
   "metadata": {},
   "outputs": [
    {
     "name": "stdout",
     "output_type": "stream",
     "text": [
      "Enter a list:[2,3,4,5,6]\n",
      "\n",
      "Enter operations to be executed on list implemented with stack:\n",
      "1. Push (Insert element) \n",
      "2. Pop (Delete element) \n",
      "3. Display (Show all elements in reverse order) \n",
      "4. Exit program\n",
      "\n",
      "Enter an input:1\n",
      "Enter element to be added:7\n",
      "Element has been added.\n",
      " [2, 3, 4, 5, 6, 7]\n",
      "\n",
      "Enter operations to be executed on list implemented with stack:\n",
      "1. Push (Insert element) \n",
      "2. Pop (Delete element) \n",
      "3. Display (Show all elements in reverse order) \n",
      "4. Exit program\n",
      "\n",
      "Enter an input:2\n",
      "Last element removed.\n",
      " [2, 3, 4, 5, 6]\n",
      "\n",
      "Enter operations to be executed on list implemented with stack:\n",
      "1. Push (Insert element) \n",
      "2. Pop (Delete element) \n",
      "3. Display (Show all elements in reverse order) \n",
      "4. Exit program\n",
      "\n",
      "Enter an input:3\n",
      "[6, 5, 4, 3, 2]\n",
      "\n",
      "Enter operations to be executed on list implemented with stack:\n",
      "1. Push (Insert element) \n",
      "2. Pop (Delete element) \n",
      "3. Display (Show all elements in reverse order) \n",
      "4. Exit program\n"
     ]
    }
   ],
   "source": [
    "n=0\n",
    "l=eval(input(\"Enter a list:\"))\n",
    "while n!=4:\n",
    "    print(\"\")\n",
    "    print(\"Enter operations to be executed on list implemented with stack:\")\n",
    "    print(\"1. Push (Insert element) \\n2. Pop (Delete element) \\n3. Display (Show all elements in reverse order) \\n4. Exit program\")\n",
    "    n=int(input(\"\\nEnter an input:\"))\n",
    "    if n==1:\n",
    "        a=eval(input(\"Enter element to be added:\"))\n",
    "        l.append(a)\n",
    "        print(\"Element has been added.\\n\",l)\n",
    "    elif n==2:\n",
    "        if l!=[]:\n",
    "            l.pop()\n",
    "            print(\"Last element removed.\\n\",l)\n",
    "        else:\n",
    "            print(\"Either list is empty or something went wrong.\")\n",
    "    elif n==3:\n",
    "        print(l[::-1])\n",
    "    elif n==4:\n",
    "        exit()\n",
    "print(\"Program ended.\")"
   ]
  },
  {
   "cell_type": "code",
   "execution_count": null,
   "metadata": {},
   "outputs": [],
   "source": []
  }
 ],
 "metadata": {
  "kernelspec": {
   "display_name": "Python 3",
   "language": "python",
   "name": "python3"
  }
 },
 "nbformat": 4,
 "nbformat_minor": 2
}
