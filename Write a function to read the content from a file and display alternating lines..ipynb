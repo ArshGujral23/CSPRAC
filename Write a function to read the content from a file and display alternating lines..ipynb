{
 "cells": [
  {
   "cell_type": "code",
   "execution_count": 15,
   "metadata": {},
   "outputs": [],
   "source": [
    "def dis_alternate():\n",
    "    f=open('content.txt','r')\n",
    "    f1=open('alternatecontent.txt','w')\n",
    "    c=f.readlines()\n",
    "    for a in c:\n",
    "        #f1.write(line.strip())\n",
    "        #count+=1\n",
    "        #print(\"line{}: {}\".format(count, line.strip()))\n",
    "        if a[0] == '.':\n",
    "            a[0]=\"\\n\"\n",
    "            f1.write(a)\n",
    "        elif a[-1] == '.':\n",
    "            a=a[:-2]+' .'+'\\n'\n",
    "            f1.write(a)\n",
    "        else:\n",
    "            f1.write(a)\n",
    "dis_alternate()"
   ]
  },
  {
   "cell_type": "code",
   "execution_count": null,
   "metadata": {},
   "outputs": [],
   "source": []
  }
 ],
 "metadata": {
  "kernelspec": {
   "display_name": "Python 3",
   "language": "python",
   "name": "python3"
  },
  "language_info": {
   "codemirror_mode": {
    "name": "ipython",
    "version": 3
   },
   "file_extension": ".py",
   "mimetype": "text/x-python",
   "name": "python",
   "nbconvert_exporter": "python",
   "pygments_lexer": "ipython3",
   "version": "3.7.3"
  }
 },
 "nbformat": 4,
 "nbformat_minor": 2
}
