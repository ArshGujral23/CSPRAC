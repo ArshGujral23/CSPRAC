{
 "cells": [
  {
   "cell_type": "code",
   "execution_count": 1,
   "metadata": {},
   "outputs": [
    {
     "name": "stdout",
     "output_type": "stream",
     "text": [
      "Enter list:[1,2,0,3,0,5] \n",
      "Updated lst: [1, 2, 3, 5, 0, 0]\n"
     ]
    }
   ],
   "source": [
    "def push_zero(lst):\n",
    "    count=0\n",
    "    for a in lst:\n",
    "        if a==0:\n",
    "            count+=1\n",
    "            lst.remove(0)\n",
    "    lst=lst+[0]*count\n",
    "    print('Updated lst:',lst)\n",
    "l=eval(input(\"Enter list:\"))\n",
    "push_zero(l)\n",
    "    "
   ]
  },
  {
   "cell_type": "code",
   "execution_count": 2,
   "metadata": {},
   "outputs": [
    {
     "name": "stdout",
     "output_type": "stream",
     "text": [
      "Enter list:[4,0,2,4,0,3,2]\n",
      "Updated lst: [4, 2, 4, 3, 2, 0, 0]\n"
     ]
    }
   ],
   "source": [
    "def push_zero(lst):\n",
    "    count=0\n",
    "    for a in lst:\n",
    "        if a==0:\n",
    "            count+=1\n",
    "            lst.remove(0)\n",
    "    lst=lst+[0]*count\n",
    "    print('Updated lst:',lst)\n",
    "l=eval(input(\"Enter list:\"))\n",
    "push_zero(l)\n",
    "    "
   ]
  },
  {
   "cell_type": "code",
   "execution_count": null,
   "metadata": {},
   "outputs": [],
   "source": []
  }
 ],
 "metadata": {
  "kernelspec": {
   "display_name": "Python 3",
   "language": "python",
   "name": "python3"
  },
  "language_info": {
   "codemirror_mode": {
    "name": "ipython",
    "version": 3
   },
   "file_extension": ".py",
   "mimetype": "text/x-python",
   "name": "python",
   "nbconvert_exporter": "python",
   "pygments_lexer": "ipython3",
   "version": "3.7.3"
  }
 },
 "nbformat": 4,
 "nbformat_minor": 2
}
