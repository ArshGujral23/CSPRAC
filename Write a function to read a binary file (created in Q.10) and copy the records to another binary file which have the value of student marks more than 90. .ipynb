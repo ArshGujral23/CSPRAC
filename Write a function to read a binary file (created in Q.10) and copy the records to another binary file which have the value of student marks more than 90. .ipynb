{
 "cells": [
  {
   "cell_type": "code",
   "execution_count": 5,
   "metadata": {},
   "outputs": [
    {
     "name": "stdout",
     "output_type": "stream",
     "text": [
      "Record copied!\n"
     ]
    }
   ],
   "source": [
    "import pickle\n",
    "def marks():\n",
    "    f=open(\"student\",'rb')\n",
    "    c=pickle.load(f)\n",
    "    l=[]\n",
    "    for i in c:\n",
    "        if i[2]>90:\n",
    "            l.append(i)\n",
    "    g=open(\"student1\",'wb')\n",
    "    pickle.dump(l,g)\n",
    "    print(\"Record copied!\")\n",
    "marks()"
   ]
  },
  {
   "cell_type": "code",
   "execution_count": 6,
   "metadata": {},
   "outputs": [
    {
     "name": "stdout",
     "output_type": "stream",
     "text": [
      "[2, 'Gautam ', 97]\n",
      "[8, 'Shyam', 96]\n"
     ]
    }
   ],
   "source": [
    "def readdata():\n",
    "    f=open(\"student1\",'rb')\n",
    "    stu=pickle.load(f)\n",
    "    for i in stu:\n",
    "         print(i)\n",
    "    f.close()\n",
    "readdata()"
   ]
  },
  {
   "cell_type": "code",
   "execution_count": null,
   "metadata": {},
   "outputs": [],
   "source": []
  }
 ],
 "metadata": {
  "kernelspec": {
   "display_name": "Python 3",
   "language": "python",
   "name": "python3"
  },
  "language_info": {
   "codemirror_mode": {
    "name": "ipython",
    "version": 3
   },
   "file_extension": ".py",
   "mimetype": "text/x-python",
   "name": "python",
   "nbconvert_exporter": "python",
   "pygments_lexer": "ipython3",
   "version": "3.7.3"
  }
 },
 "nbformat": 4,
 "nbformat_minor": 2
}
