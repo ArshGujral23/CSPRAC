{
 "cells": [
  {
   "cell_type": "code",
   "execution_count": 7,
   "metadata": {},
   "outputs": [
    {
     "name": "stdout",
     "output_type": "stream",
     "text": [
      "Enter the word to be replaced:an\n",
      "Enter word to be replaced with word in file:n\n",
      "\n",
      " A computer is n electronic device which can perform many tasks like messaging, calculations, data storage, printing, etc. Computers were developed in the 1940s. These days computers are used everywhere homes, schools, colleges, offices, hotels, railway stations, airports, shops, etc.There are various kinds of computers like pocket computers, laptops, personal computers, etc. Also there are various colours and sizes of computer. I too have a computer at home, which has a keyboard, a mouse, a CPU (the brain of computer), a screen or monitor and a UPS. Computer is a very helpful device. We can learn many new things through Internet and can also do our work easily and quickly on computer. We should not overuse computer. It can adversely effect our health. Computers are there to help us, we should not misuse them by only playing games or chatting or surfing Internet. \n"
     ]
    }
   ],
   "source": [
    "def changewords():\n",
    "    with open(\"content.txt\",'r') as f:\n",
    "        c=f.read()\n",
    "        c=c.split()\n",
    "        a=\"\"\n",
    "        b=input(\"Enter the word to be replaced:\")\n",
    "        d=input(\"Enter word to be replaced with word in file:\")\n",
    "        for i in c:\n",
    "            if i==b:\n",
    "                a=a+d+\" \"\n",
    "            else:\n",
    "                a=a+i+\" \"\n",
    "    print(\"\\n\",a)\n",
    "changewords()\n",
    "        "
   ]
  },
  {
   "cell_type": "code",
   "execution_count": null,
   "metadata": {},
   "outputs": [],
   "source": []
  },
  {
   "cell_type": "code",
   "execution_count": null,
   "metadata": {},
   "outputs": [],
   "source": []
  }
 ],
 "metadata": {
  "kernelspec": {
   "display_name": "Python 3",
   "language": "python",
   "name": "python3"
  },
  "language_info": {
   "codemirror_mode": {
    "name": "ipython",
    "version": 3
   },
   "file_extension": ".py",
   "mimetype": "text/x-python",
   "name": "python",
   "nbconvert_exporter": "python",
   "pygments_lexer": "ipython3",
   "version": "3.7.3"
  }
 },
 "nbformat": 4,
 "nbformat_minor": 2
}
